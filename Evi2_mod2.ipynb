{
  "nbformat": 4,
  "nbformat_minor": 0,
  "metadata": {
    "colab": {
      "provenance": [],
      "collapsed_sections": [],
      "authorship_tag": "ABX9TyMhvBEJCOgao6gcoG1NgBEy",
      "include_colab_link": true
    },
    "kernelspec": {
      "name": "python3",
      "display_name": "Python 3"
    },
    "language_info": {
      "name": "python"
    }
  },
  "cells": [
    {
      "cell_type": "markdown",
      "metadata": {
        "id": "view-in-github",
        "colab_type": "text"
      },
      "source": [
        "<a href=\"https://colab.research.google.com/github/AlanMR20/Evidencia2_mod2/blob/main/Evi2_mod2.ipynb\" target=\"_parent\"><img src=\"https://colab.research.google.com/assets/colab-badge.svg\" alt=\"Open In Colab\"/></a>"
      ]
    },
    {
      "cell_type": "code",
      "execution_count": null,
      "metadata": {
        "id": "y-24uk36UnsN",
        "colab": {
          "base_uri": "https://localhost:8080/"
        },
        "outputId": "fc873285-6a6b-4fba-fb1f-6c42e12b38ca"
      },
      "outputs": [
        {
          "output_type": "stream",
          "name": "stdout",
          "text": [
            "Mounted at /content/gdrive\n",
            "/content\n"
          ]
        }
      ],
      "source": [
        "from google.colab import drive\n",
        "drive.mount(\"/content/gdrive\")  \n",
        "!pwd"
      ]
    },
    {
      "cell_type": "code",
      "source": [
        "%cd \"/content/gdrive/MyDrive/Colab Notebooks/AI&DC-I/Datasets\" \n",
        "!ls"
      ],
      "metadata": {
        "colab": {
          "base_uri": "https://localhost:8080/"
        },
        "id": "fQVAdXseyH4C",
        "outputId": "80fea372-dc7a-4a51-daa0-cb83fcf85a6a"
      },
      "execution_count": null,
      "outputs": [
        {
          "output_type": "stream",
          "name": "stdout",
          "text": [
            "/content/gdrive/MyDrive/Colab Notebooks/AI&DC-I/Datasets\n",
            "Class_9ago22  Fish.csv\tSocial_Network_Ads.csv\tValhalla\n"
          ]
        }
      ]
    },
    {
      "cell_type": "code",
      "source": [
        "import pandas as pd\n",
        "import numpy as np\n",
        "import matplotlib.pyplot as plt\n",
        "from sklearn.model_selection import train_test_split\n",
        "from sklearn.linear_model import LogisticRegression\n",
        "from sklearn.metrics import r2_score, mean_squared_error\n",
        "from sklearn.ensemble import RandomForestClassifier\n",
        "from sklearn.datasets import make_classification\n",
        "\n",
        "#Importamos los datos de entrada\n",
        "data = pd.read_csv('Social_Network_Ads.csv')\n",
        "\n",
        "#Matriz de correlacion\n",
        "cor_d = data.corr()\n",
        "cor_d.style.background_gradient (cmap = 'coolwarm')"
      ],
      "metadata": {
        "colab": {
          "base_uri": "https://localhost:8080/",
          "height": 175
        },
        "id": "kI10oIMYyJal",
        "outputId": "f9722e80-2793-4fd5-cb53-eb1c264265cf"
      },
      "execution_count": null,
      "outputs": [
        {
          "output_type": "execute_result",
          "data": {
            "text/plain": [
              "<pandas.io.formats.style.Styler at 0x7fd6aff79a10>"
            ],
            "text/html": [
              "<style type=\"text/css\">\n",
              "#T_4406c_row0_col0, #T_4406c_row1_col1, #T_4406c_row2_col2, #T_4406c_row3_col3 {\n",
              "  background-color: #b40426;\n",
              "  color: #f1f1f1;\n",
              "}\n",
              "#T_4406c_row0_col1, #T_4406c_row0_col2, #T_4406c_row0_col3, #T_4406c_row1_col0 {\n",
              "  background-color: #3b4cc0;\n",
              "  color: #f1f1f1;\n",
              "}\n",
              "#T_4406c_row1_col2 {\n",
              "  background-color: #5673e0;\n",
              "  color: #f1f1f1;\n",
              "}\n",
              "#T_4406c_row1_col3 {\n",
              "  background-color: #f4c6af;\n",
              "  color: #000000;\n",
              "}\n",
              "#T_4406c_row2_col0 {\n",
              "  background-color: #506bda;\n",
              "  color: #f1f1f1;\n",
              "}\n",
              "#T_4406c_row2_col1 {\n",
              "  background-color: #6b8df0;\n",
              "  color: #f1f1f1;\n",
              "}\n",
              "#T_4406c_row2_col3 {\n",
              "  background-color: #b2ccfb;\n",
              "  color: #000000;\n",
              "}\n",
              "#T_4406c_row3_col0 {\n",
              "  background-color: #3d50c3;\n",
              "  color: #f1f1f1;\n",
              "}\n",
              "#T_4406c_row3_col1 {\n",
              "  background-color: #f4c5ad;\n",
              "  color: #000000;\n",
              "}\n",
              "#T_4406c_row3_col2 {\n",
              "  background-color: #a3c2fe;\n",
              "  color: #000000;\n",
              "}\n",
              "</style>\n",
              "<table id=\"T_4406c_\" class=\"dataframe\">\n",
              "  <thead>\n",
              "    <tr>\n",
              "      <th class=\"blank level0\" >&nbsp;</th>\n",
              "      <th class=\"col_heading level0 col0\" >User ID</th>\n",
              "      <th class=\"col_heading level0 col1\" >Age</th>\n",
              "      <th class=\"col_heading level0 col2\" >EstimatedSalary</th>\n",
              "      <th class=\"col_heading level0 col3\" >Purchased</th>\n",
              "    </tr>\n",
              "  </thead>\n",
              "  <tbody>\n",
              "    <tr>\n",
              "      <th id=\"T_4406c_level0_row0\" class=\"row_heading level0 row0\" >User ID</th>\n",
              "      <td id=\"T_4406c_row0_col0\" class=\"data row0 col0\" >1.000000</td>\n",
              "      <td id=\"T_4406c_row0_col1\" class=\"data row0 col1\" >-0.000721</td>\n",
              "      <td id=\"T_4406c_row0_col2\" class=\"data row0 col2\" >0.071097</td>\n",
              "      <td id=\"T_4406c_row0_col3\" class=\"data row0 col3\" >0.007120</td>\n",
              "    </tr>\n",
              "    <tr>\n",
              "      <th id=\"T_4406c_level0_row1\" class=\"row_heading level0 row1\" >Age</th>\n",
              "      <td id=\"T_4406c_row1_col0\" class=\"data row1 col0\" >-0.000721</td>\n",
              "      <td id=\"T_4406c_row1_col1\" class=\"data row1 col1\" >1.000000</td>\n",
              "      <td id=\"T_4406c_row1_col2\" class=\"data row1 col2\" >0.155238</td>\n",
              "      <td id=\"T_4406c_row1_col3\" class=\"data row1 col3\" >0.622454</td>\n",
              "    </tr>\n",
              "    <tr>\n",
              "      <th id=\"T_4406c_level0_row2\" class=\"row_heading level0 row2\" >EstimatedSalary</th>\n",
              "      <td id=\"T_4406c_row2_col0\" class=\"data row2 col0\" >0.071097</td>\n",
              "      <td id=\"T_4406c_row2_col1\" class=\"data row2 col1\" >0.155238</td>\n",
              "      <td id=\"T_4406c_row2_col2\" class=\"data row2 col2\" >1.000000</td>\n",
              "      <td id=\"T_4406c_row2_col3\" class=\"data row2 col3\" >0.362083</td>\n",
              "    </tr>\n",
              "    <tr>\n",
              "      <th id=\"T_4406c_level0_row3\" class=\"row_heading level0 row3\" >Purchased</th>\n",
              "      <td id=\"T_4406c_row3_col0\" class=\"data row3 col0\" >0.007120</td>\n",
              "      <td id=\"T_4406c_row3_col1\" class=\"data row3 col1\" >0.622454</td>\n",
              "      <td id=\"T_4406c_row3_col2\" class=\"data row3 col2\" >0.362083</td>\n",
              "      <td id=\"T_4406c_row3_col3\" class=\"data row3 col3\" >1.000000</td>\n",
              "    </tr>\n",
              "  </tbody>\n",
              "</table>\n"
            ]
          },
          "metadata": {},
          "execution_count": 18
        }
      ]
    },
    {
      "cell_type": "code",
      "source": [
        "# Función de evaulación de desempeño del modelo de regresión lineal\n",
        "def evalMLR(model,X_train, X_test, y_train, y_test):\n",
        "  if model == 0: # Declaración de modelo de regresión logistica\n",
        "    reg_mod = LogisticRegression()\n",
        "  elif model == 1:\n",
        "    reg_mod = RandomForestClassifier(max_depth=3, random_state=0)\n",
        "  # Ajuste de nuestro modelo\n",
        "  reg_mod.fit(X_train, y_train)\n",
        "  #Predicciónes del modelo\n",
        "  y_hat_train = reg_mod.predict(X_train)\n",
        "  y_hat_test = reg_mod.predict(X_test)\n",
        "  # Validación\n",
        "  sc_train = r2_score(y_train, y_hat_train)\n",
        "  sc_test = r2_score(y_test, y_hat_test)\n",
        "  mse = mean_squared_error(y_test, y_hat_test)\n",
        "  print(\"R2_Train = \"+ \"{:.6}\".format(sc_train*100)+ \"%\\tR2_Test = \"+ \"{:.6}\".format(sc_test*100)+\"%\\tECM = \"+ \"{:.6}\".format(mse)+\"\\n\")"
      ],
      "metadata": {
        "id": "xq-1I_5o493s"
      },
      "execution_count": null,
      "outputs": []
    },
    {
      "cell_type": "code",
      "source": [
        "data = pd.get_dummies(data)\n",
        "data.head()\n"
      ],
      "metadata": {
        "colab": {
          "base_uri": "https://localhost:8080/",
          "height": 206
        },
        "id": "9DPihlgz5oYq",
        "outputId": "bad46c01-e377-4d54-c1ba-d865a171d25c"
      },
      "execution_count": null,
      "outputs": [
        {
          "output_type": "execute_result",
          "data": {
            "text/plain": [
              "    User ID  Age  EstimatedSalary  Purchased  Gender_Female  Gender_Male\n",
              "0  15624510   19            19000          0              0            1\n",
              "1  15810944   35            20000          0              0            1\n",
              "2  15668575   26            43000          0              1            0\n",
              "3  15603246   27            57000          0              1            0\n",
              "4  15804002   19            76000          0              0            1"
            ],
            "text/html": [
              "\n",
              "  <div id=\"df-3f35083d-e933-4a38-a341-eccb7866a95c\">\n",
              "    <div class=\"colab-df-container\">\n",
              "      <div>\n",
              "<style scoped>\n",
              "    .dataframe tbody tr th:only-of-type {\n",
              "        vertical-align: middle;\n",
              "    }\n",
              "\n",
              "    .dataframe tbody tr th {\n",
              "        vertical-align: top;\n",
              "    }\n",
              "\n",
              "    .dataframe thead th {\n",
              "        text-align: right;\n",
              "    }\n",
              "</style>\n",
              "<table border=\"1\" class=\"dataframe\">\n",
              "  <thead>\n",
              "    <tr style=\"text-align: right;\">\n",
              "      <th></th>\n",
              "      <th>User ID</th>\n",
              "      <th>Age</th>\n",
              "      <th>EstimatedSalary</th>\n",
              "      <th>Purchased</th>\n",
              "      <th>Gender_Female</th>\n",
              "      <th>Gender_Male</th>\n",
              "    </tr>\n",
              "  </thead>\n",
              "  <tbody>\n",
              "    <tr>\n",
              "      <th>0</th>\n",
              "      <td>15624510</td>\n",
              "      <td>19</td>\n",
              "      <td>19000</td>\n",
              "      <td>0</td>\n",
              "      <td>0</td>\n",
              "      <td>1</td>\n",
              "    </tr>\n",
              "    <tr>\n",
              "      <th>1</th>\n",
              "      <td>15810944</td>\n",
              "      <td>35</td>\n",
              "      <td>20000</td>\n",
              "      <td>0</td>\n",
              "      <td>0</td>\n",
              "      <td>1</td>\n",
              "    </tr>\n",
              "    <tr>\n",
              "      <th>2</th>\n",
              "      <td>15668575</td>\n",
              "      <td>26</td>\n",
              "      <td>43000</td>\n",
              "      <td>0</td>\n",
              "      <td>1</td>\n",
              "      <td>0</td>\n",
              "    </tr>\n",
              "    <tr>\n",
              "      <th>3</th>\n",
              "      <td>15603246</td>\n",
              "      <td>27</td>\n",
              "      <td>57000</td>\n",
              "      <td>0</td>\n",
              "      <td>1</td>\n",
              "      <td>0</td>\n",
              "    </tr>\n",
              "    <tr>\n",
              "      <th>4</th>\n",
              "      <td>15804002</td>\n",
              "      <td>19</td>\n",
              "      <td>76000</td>\n",
              "      <td>0</td>\n",
              "      <td>0</td>\n",
              "      <td>1</td>\n",
              "    </tr>\n",
              "  </tbody>\n",
              "</table>\n",
              "</div>\n",
              "      <button class=\"colab-df-convert\" onclick=\"convertToInteractive('df-3f35083d-e933-4a38-a341-eccb7866a95c')\"\n",
              "              title=\"Convert this dataframe to an interactive table.\"\n",
              "              style=\"display:none;\">\n",
              "        \n",
              "  <svg xmlns=\"http://www.w3.org/2000/svg\" height=\"24px\"viewBox=\"0 0 24 24\"\n",
              "       width=\"24px\">\n",
              "    <path d=\"M0 0h24v24H0V0z\" fill=\"none\"/>\n",
              "    <path d=\"M18.56 5.44l.94 2.06.94-2.06 2.06-.94-2.06-.94-.94-2.06-.94 2.06-2.06.94zm-11 1L8.5 8.5l.94-2.06 2.06-.94-2.06-.94L8.5 2.5l-.94 2.06-2.06.94zm10 10l.94 2.06.94-2.06 2.06-.94-2.06-.94-.94-2.06-.94 2.06-2.06.94z\"/><path d=\"M17.41 7.96l-1.37-1.37c-.4-.4-.92-.59-1.43-.59-.52 0-1.04.2-1.43.59L10.3 9.45l-7.72 7.72c-.78.78-.78 2.05 0 2.83L4 21.41c.39.39.9.59 1.41.59.51 0 1.02-.2 1.41-.59l7.78-7.78 2.81-2.81c.8-.78.8-2.07 0-2.86zM5.41 20L4 18.59l7.72-7.72 1.47 1.35L5.41 20z\"/>\n",
              "  </svg>\n",
              "      </button>\n",
              "      \n",
              "  <style>\n",
              "    .colab-df-container {\n",
              "      display:flex;\n",
              "      flex-wrap:wrap;\n",
              "      gap: 12px;\n",
              "    }\n",
              "\n",
              "    .colab-df-convert {\n",
              "      background-color: #E8F0FE;\n",
              "      border: none;\n",
              "      border-radius: 50%;\n",
              "      cursor: pointer;\n",
              "      display: none;\n",
              "      fill: #1967D2;\n",
              "      height: 32px;\n",
              "      padding: 0 0 0 0;\n",
              "      width: 32px;\n",
              "    }\n",
              "\n",
              "    .colab-df-convert:hover {\n",
              "      background-color: #E2EBFA;\n",
              "      box-shadow: 0px 1px 2px rgba(60, 64, 67, 0.3), 0px 1px 3px 1px rgba(60, 64, 67, 0.15);\n",
              "      fill: #174EA6;\n",
              "    }\n",
              "\n",
              "    [theme=dark] .colab-df-convert {\n",
              "      background-color: #3B4455;\n",
              "      fill: #D2E3FC;\n",
              "    }\n",
              "\n",
              "    [theme=dark] .colab-df-convert:hover {\n",
              "      background-color: #434B5C;\n",
              "      box-shadow: 0px 1px 3px 1px rgba(0, 0, 0, 0.15);\n",
              "      filter: drop-shadow(0px 1px 2px rgba(0, 0, 0, 0.3));\n",
              "      fill: #FFFFFF;\n",
              "    }\n",
              "  </style>\n",
              "\n",
              "      <script>\n",
              "        const buttonEl =\n",
              "          document.querySelector('#df-3f35083d-e933-4a38-a341-eccb7866a95c button.colab-df-convert');\n",
              "        buttonEl.style.display =\n",
              "          google.colab.kernel.accessAllowed ? 'block' : 'none';\n",
              "\n",
              "        async function convertToInteractive(key) {\n",
              "          const element = document.querySelector('#df-3f35083d-e933-4a38-a341-eccb7866a95c');\n",
              "          const dataTable =\n",
              "            await google.colab.kernel.invokeFunction('convertToInteractive',\n",
              "                                                     [key], {});\n",
              "          if (!dataTable) return;\n",
              "\n",
              "          const docLinkHtml = 'Like what you see? Visit the ' +\n",
              "            '<a target=\"_blank\" href=https://colab.research.google.com/notebooks/data_table.ipynb>data table notebook</a>'\n",
              "            + ' to learn more about interactive tables.';\n",
              "          element.innerHTML = '';\n",
              "          dataTable['output_type'] = 'display_data';\n",
              "          await google.colab.output.renderOutput(dataTable, element);\n",
              "          const docLink = document.createElement('div');\n",
              "          docLink.innerHTML = docLinkHtml;\n",
              "          element.appendChild(docLink);\n",
              "        }\n",
              "      </script>\n",
              "    </div>\n",
              "  </div>\n",
              "  "
            ]
          },
          "metadata": {},
          "execution_count": 20
        }
      ]
    },
    {
      "cell_type": "code",
      "source": [
        "#Matriz de correlacion\n",
        "cor_d = data.corr()\n",
        "cor_d.style.background_gradient (cmap = 'coolwarm')"
      ],
      "metadata": {
        "colab": {
          "base_uri": "https://localhost:8080/",
          "height": 237
        },
        "id": "FdOIWLkb50j7",
        "outputId": "b8b739f0-26e1-43a9-c672-9c9eeb36c243"
      },
      "execution_count": null,
      "outputs": [
        {
          "output_type": "execute_result",
          "data": {
            "text/plain": [
              "<pandas.io.formats.style.Styler at 0x7fd6aff78c10>"
            ],
            "text/html": [
              "<style type=\"text/css\">\n",
              "#T_75134_row0_col0, #T_75134_row1_col1, #T_75134_row2_col2, #T_75134_row3_col3, #T_75134_row4_col4, #T_75134_row5_col5 {\n",
              "  background-color: #b40426;\n",
              "  color: #f1f1f1;\n",
              "}\n",
              "#T_75134_row0_col1 {\n",
              "  background-color: #4f69d9;\n",
              "  color: #f1f1f1;\n",
              "}\n",
              "#T_75134_row0_col2 {\n",
              "  background-color: #6180e9;\n",
              "  color: #f1f1f1;\n",
              "}\n",
              "#T_75134_row0_col3, #T_75134_row4_col0 {\n",
              "  background-color: #4961d2;\n",
              "  color: #f1f1f1;\n",
              "}\n",
              "#T_75134_row0_col4 {\n",
              "  background-color: #e0dbd8;\n",
              "  color: #000000;\n",
              "}\n",
              "#T_75134_row0_col5 {\n",
              "  background-color: #d9dce1;\n",
              "  color: #000000;\n",
              "}\n",
              "#T_75134_row1_col0 {\n",
              "  background-color: #4257c9;\n",
              "  color: #f1f1f1;\n",
              "}\n",
              "#T_75134_row1_col2 {\n",
              "  background-color: #7da0f9;\n",
              "  color: #f1f1f1;\n",
              "}\n",
              "#T_75134_row1_col3 {\n",
              "  background-color: #f5c0a7;\n",
              "  color: #000000;\n",
              "}\n",
              "#T_75134_row1_col4 {\n",
              "  background-color: #e6d7cf;\n",
              "  color: #000000;\n",
              "}\n",
              "#T_75134_row1_col5 {\n",
              "  background-color: #d3dbe7;\n",
              "  color: #000000;\n",
              "}\n",
              "#T_75134_row2_col0 {\n",
              "  background-color: #5875e1;\n",
              "  color: #f1f1f1;\n",
              "}\n",
              "#T_75134_row2_col1 {\n",
              "  background-color: #80a3fa;\n",
              "  color: #f1f1f1;\n",
              "}\n",
              "#T_75134_row2_col3 {\n",
              "  background-color: #bcd2f7;\n",
              "  color: #000000;\n",
              "}\n",
              "#T_75134_row2_col4 {\n",
              "  background-color: #e4d9d2;\n",
              "  color: #000000;\n",
              "}\n",
              "#T_75134_row2_col5 {\n",
              "  background-color: #d5dbe5;\n",
              "  color: #000000;\n",
              "}\n",
              "#T_75134_row3_col0 {\n",
              "  background-color: #445acc;\n",
              "  color: #f1f1f1;\n",
              "}\n",
              "#T_75134_row3_col1 {\n",
              "  background-color: #f6bea4;\n",
              "  color: #000000;\n",
              "}\n",
              "#T_75134_row3_col2 {\n",
              "  background-color: #c0d4f5;\n",
              "  color: #000000;\n",
              "}\n",
              "#T_75134_row3_col4 {\n",
              "  background-color: #e2dad5;\n",
              "  color: #000000;\n",
              "}\n",
              "#T_75134_row3_col5 {\n",
              "  background-color: #d7dce3;\n",
              "  color: #000000;\n",
              "}\n",
              "#T_75134_row4_col1 {\n",
              "  background-color: #6687ed;\n",
              "  color: #f1f1f1;\n",
              "}\n",
              "#T_75134_row4_col2 {\n",
              "  background-color: #5e7de7;\n",
              "  color: #f1f1f1;\n",
              "}\n",
              "#T_75134_row4_col3 {\n",
              "  background-color: #536edd;\n",
              "  color: #f1f1f1;\n",
              "}\n",
              "#T_75134_row4_col5, #T_75134_row5_col0, #T_75134_row5_col1, #T_75134_row5_col2, #T_75134_row5_col3, #T_75134_row5_col4 {\n",
              "  background-color: #3b4cc0;\n",
              "  color: #f1f1f1;\n",
              "}\n",
              "</style>\n",
              "<table id=\"T_75134_\" class=\"dataframe\">\n",
              "  <thead>\n",
              "    <tr>\n",
              "      <th class=\"blank level0\" >&nbsp;</th>\n",
              "      <th class=\"col_heading level0 col0\" >User ID</th>\n",
              "      <th class=\"col_heading level0 col1\" >Age</th>\n",
              "      <th class=\"col_heading level0 col2\" >EstimatedSalary</th>\n",
              "      <th class=\"col_heading level0 col3\" >Purchased</th>\n",
              "      <th class=\"col_heading level0 col4\" >Gender_Female</th>\n",
              "      <th class=\"col_heading level0 col5\" >Gender_Male</th>\n",
              "    </tr>\n",
              "  </thead>\n",
              "  <tbody>\n",
              "    <tr>\n",
              "      <th id=\"T_75134_level0_row0\" class=\"row_heading level0 row0\" >User ID</th>\n",
              "      <td id=\"T_75134_row0_col0\" class=\"data row0 col0\" >1.000000</td>\n",
              "      <td id=\"T_75134_row0_col1\" class=\"data row0 col1\" >-0.000721</td>\n",
              "      <td id=\"T_75134_row0_col2\" class=\"data row0 col2\" >0.071097</td>\n",
              "      <td id=\"T_75134_row0_col3\" class=\"data row0 col3\" >0.007120</td>\n",
              "      <td id=\"T_75134_row0_col4\" class=\"data row0 col4\" >0.025249</td>\n",
              "      <td id=\"T_75134_row0_col5\" class=\"data row0 col5\" >-0.025249</td>\n",
              "    </tr>\n",
              "    <tr>\n",
              "      <th id=\"T_75134_level0_row1\" class=\"row_heading level0 row1\" >Age</th>\n",
              "      <td id=\"T_75134_row1_col0\" class=\"data row1 col0\" >-0.000721</td>\n",
              "      <td id=\"T_75134_row1_col1\" class=\"data row1 col1\" >1.000000</td>\n",
              "      <td id=\"T_75134_row1_col2\" class=\"data row1 col2\" >0.155238</td>\n",
              "      <td id=\"T_75134_row1_col3\" class=\"data row1 col3\" >0.622454</td>\n",
              "      <td id=\"T_75134_row1_col4\" class=\"data row1 col4\" >0.073741</td>\n",
              "      <td id=\"T_75134_row1_col5\" class=\"data row1 col5\" >-0.073741</td>\n",
              "    </tr>\n",
              "    <tr>\n",
              "      <th id=\"T_75134_level0_row2\" class=\"row_heading level0 row2\" >EstimatedSalary</th>\n",
              "      <td id=\"T_75134_row2_col0\" class=\"data row2 col0\" >0.071097</td>\n",
              "      <td id=\"T_75134_row2_col1\" class=\"data row2 col1\" >0.155238</td>\n",
              "      <td id=\"T_75134_row2_col2\" class=\"data row2 col2\" >1.000000</td>\n",
              "      <td id=\"T_75134_row2_col3\" class=\"data row2 col3\" >0.362083</td>\n",
              "      <td id=\"T_75134_row2_col4\" class=\"data row2 col4\" >0.060435</td>\n",
              "      <td id=\"T_75134_row2_col5\" class=\"data row2 col5\" >-0.060435</td>\n",
              "    </tr>\n",
              "    <tr>\n",
              "      <th id=\"T_75134_level0_row3\" class=\"row_heading level0 row3\" >Purchased</th>\n",
              "      <td id=\"T_75134_row3_col0\" class=\"data row3 col0\" >0.007120</td>\n",
              "      <td id=\"T_75134_row3_col1\" class=\"data row3 col1\" >0.622454</td>\n",
              "      <td id=\"T_75134_row3_col2\" class=\"data row3 col2\" >0.362083</td>\n",
              "      <td id=\"T_75134_row3_col3\" class=\"data row3 col3\" >1.000000</td>\n",
              "      <td id=\"T_75134_row3_col4\" class=\"data row3 col4\" >0.042469</td>\n",
              "      <td id=\"T_75134_row3_col5\" class=\"data row3 col5\" >-0.042469</td>\n",
              "    </tr>\n",
              "    <tr>\n",
              "      <th id=\"T_75134_level0_row4\" class=\"row_heading level0 row4\" >Gender_Female</th>\n",
              "      <td id=\"T_75134_row4_col0\" class=\"data row4 col0\" >0.025249</td>\n",
              "      <td id=\"T_75134_row4_col1\" class=\"data row4 col1\" >0.073741</td>\n",
              "      <td id=\"T_75134_row4_col2\" class=\"data row4 col2\" >0.060435</td>\n",
              "      <td id=\"T_75134_row4_col3\" class=\"data row4 col3\" >0.042469</td>\n",
              "      <td id=\"T_75134_row4_col4\" class=\"data row4 col4\" >1.000000</td>\n",
              "      <td id=\"T_75134_row4_col5\" class=\"data row4 col5\" >-1.000000</td>\n",
              "    </tr>\n",
              "    <tr>\n",
              "      <th id=\"T_75134_level0_row5\" class=\"row_heading level0 row5\" >Gender_Male</th>\n",
              "      <td id=\"T_75134_row5_col0\" class=\"data row5 col0\" >-0.025249</td>\n",
              "      <td id=\"T_75134_row5_col1\" class=\"data row5 col1\" >-0.073741</td>\n",
              "      <td id=\"T_75134_row5_col2\" class=\"data row5 col2\" >-0.060435</td>\n",
              "      <td id=\"T_75134_row5_col3\" class=\"data row5 col3\" >-0.042469</td>\n",
              "      <td id=\"T_75134_row5_col4\" class=\"data row5 col4\" >-1.000000</td>\n",
              "      <td id=\"T_75134_row5_col5\" class=\"data row5 col5\" >1.000000</td>\n",
              "    </tr>\n",
              "  </tbody>\n",
              "</table>\n"
            ]
          },
          "metadata": {},
          "execution_count": 21
        }
      ]
    },
    {
      "cell_type": "code",
      "source": [
        "# Caracteristicas para los distintos modelos\n",
        "x1 = data[['User ID',\t'Age',\t'EstimatedSalary',\t'Gender_Female',\t'Gender_Male']]\n",
        "x2 = data[['Age',\t'EstimatedSalary',\t'Gender_Female',\t'Gender_Male']]\n",
        "x3 = data[['User ID',\t'EstimatedSalary',\t'Gender_Female',\t'Gender_Male']]\n",
        "x4 = data[['User ID','Age',\t'EstimatedSalary']]\n",
        "x5 = data[['Age','Gender_Female',\t'Gender_Male']]\n",
        "x6 = data[['EstimatedSalary','Gender_Female',\t'Gender_Male']]\n",
        "y = data[['Purchased']]"
      ],
      "metadata": {
        "id": "ZvJT8wY26DGY"
      },
      "execution_count": null,
      "outputs": []
    },
    {
      "cell_type": "code",
      "source": [
        "chars_x = [x1,x2, x3, x4, x5, x6]\n",
        "rands = [1, 4, 21, 105, 837]\n",
        "\n",
        "for i in range(len(rands)):\n",
        "  # Se corren para 5 muestras para cada modelo\n",
        "  print(\"\\t\"*3+\"MUESTRA\",i+1)\n",
        "  for j in range(len(chars_x)):\n",
        "    # Separamos un conjunto de datos para entrenar y otro para probar\n",
        "    X_train, X_test, y_train, y_test = train_test_split(chars_x[j], y, random_state=rands[i])\n",
        "    # Llamamos a nuestra función para el modelo\n",
        "    print(\"Modelo\",j+1)\n",
        "    for k in range(2):\n",
        "      evalMLR(k,X_train, X_test, y_train, y_test)"
      ],
      "metadata": {
        "colab": {
          "base_uri": "https://localhost:8080/"
        },
        "id": "GekvnO_X6DUX",
        "outputId": "89934a23-6f3b-4570-8088-e00f347aa3dc"
      },
      "execution_count": null,
      "outputs": [
        {
          "output_type": "stream",
          "name": "stdout",
          "text": [
            "\t\t\tMUESTRA 1\n",
            "Modelo 1\n",
            "R2_Train = 13.4285%\tR2_Test = -27.2578%\tECM = 0.31\n",
            "\n",
            "R2_Train = 71.6404%\tR2_Test = 50.7389%\tECM = 0.12\n",
            "\n",
            "Modelo 2\n",
            "R2_Train = -44.7833%\tR2_Test = -80.624%\tECM = 0.44\n",
            "\n"
          ]
        },
        {
          "output_type": "stream",
          "name": "stderr",
          "text": [
            "/usr/local/lib/python3.7/dist-packages/sklearn/utils/validation.py:993: DataConversionWarning: A column-vector y was passed when a 1d array was expected. Please change the shape of y to (n_samples, ), for example using ravel().\n",
            "  y = column_or_1d(y, warn=True)\n",
            "/usr/local/lib/python3.7/dist-packages/ipykernel_launcher.py:8: DataConversionWarning: A column-vector y was passed when a 1d array was expected. Please change the shape of y to (n_samples,), for example using ravel().\n",
            "  \n",
            "/usr/local/lib/python3.7/dist-packages/sklearn/utils/validation.py:993: DataConversionWarning: A column-vector y was passed when a 1d array was expected. Please change the shape of y to (n_samples, ), for example using ravel().\n",
            "  y = column_or_1d(y, warn=True)\n",
            "/usr/local/lib/python3.7/dist-packages/ipykernel_launcher.py:8: DataConversionWarning: A column-vector y was passed when a 1d array was expected. Please change the shape of y to (n_samples,), for example using ravel().\n",
            "  \n"
          ]
        },
        {
          "output_type": "stream",
          "name": "stdout",
          "text": [
            "R2_Train = 70.1478%\tR2_Test = 50.7389%\tECM = 0.12\n",
            "\n",
            "Modelo 3\n",
            "R2_Train = 13.4285%\tR2_Test = -27.2578%\tECM = 0.31\n",
            "\n",
            "R2_Train = 23.8768%\tR2_Test = -31.3629%\tECM = 0.32\n",
            "\n",
            "Modelo 4\n",
            "R2_Train = 13.4285%\tR2_Test = -27.2578%\tECM = 0.31\n",
            "\n"
          ]
        },
        {
          "output_type": "stream",
          "name": "stderr",
          "text": [
            "/usr/local/lib/python3.7/dist-packages/sklearn/utils/validation.py:993: DataConversionWarning: A column-vector y was passed when a 1d array was expected. Please change the shape of y to (n_samples, ), for example using ravel().\n",
            "  y = column_or_1d(y, warn=True)\n",
            "/usr/local/lib/python3.7/dist-packages/ipykernel_launcher.py:8: DataConversionWarning: A column-vector y was passed when a 1d array was expected. Please change the shape of y to (n_samples,), for example using ravel().\n",
            "  \n",
            "/usr/local/lib/python3.7/dist-packages/sklearn/utils/validation.py:993: DataConversionWarning: A column-vector y was passed when a 1d array was expected. Please change the shape of y to (n_samples, ), for example using ravel().\n",
            "  y = column_or_1d(y, warn=True)\n",
            "/usr/local/lib/python3.7/dist-packages/ipykernel_launcher.py:8: DataConversionWarning: A column-vector y was passed when a 1d array was expected. Please change the shape of y to (n_samples,), for example using ravel().\n",
            "  \n"
          ]
        },
        {
          "output_type": "stream",
          "name": "stdout",
          "text": [
            "R2_Train = 74.6256%\tR2_Test = 50.7389%\tECM = 0.12\n",
            "\n",
            "Modelo 5\n",
            "R2_Train = 28.3546%\tR2_Test = 34.3186%\tECM = 0.16\n",
            "\n",
            "R2_Train = 28.3546%\tR2_Test = 30.2135%\tECM = 0.17\n",
            "\n",
            "Modelo 6\n",
            "R2_Train = 13.4285%\tR2_Test = -35.468%\tECM = 0.33\n",
            "\n"
          ]
        },
        {
          "output_type": "stream",
          "name": "stderr",
          "text": [
            "/usr/local/lib/python3.7/dist-packages/sklearn/utils/validation.py:993: DataConversionWarning: A column-vector y was passed when a 1d array was expected. Please change the shape of y to (n_samples, ), for example using ravel().\n",
            "  y = column_or_1d(y, warn=True)\n",
            "/usr/local/lib/python3.7/dist-packages/ipykernel_launcher.py:8: DataConversionWarning: A column-vector y was passed when a 1d array was expected. Please change the shape of y to (n_samples,), for example using ravel().\n",
            "  \n",
            "/usr/local/lib/python3.7/dist-packages/sklearn/utils/validation.py:993: DataConversionWarning: A column-vector y was passed when a 1d array was expected. Please change the shape of y to (n_samples, ), for example using ravel().\n",
            "  y = column_or_1d(y, warn=True)\n",
            "/usr/local/lib/python3.7/dist-packages/ipykernel_launcher.py:8: DataConversionWarning: A column-vector y was passed when a 1d array was expected. Please change the shape of y to (n_samples,), for example using ravel().\n",
            "  \n"
          ]
        },
        {
          "output_type": "stream",
          "name": "stdout",
          "text": [
            "R2_Train = 23.8768%\tR2_Test = -31.3629%\tECM = 0.32\n",
            "\n",
            "\t\t\tMUESTRA 2\n",
            "Modelo 1\n",
            "R2_Train = 3.45937%\tR2_Test = 14.2857%\tECM = 0.18\n",
            "\n",
            "R2_Train = 70.186%\tR2_Test = 52.381%\tECM = 0.1\n",
            "\n",
            "Modelo 2\n",
            "R2_Train = -60.4278%\tR2_Test = -42.8571%\tECM = 0.3\n",
            "\n"
          ]
        },
        {
          "output_type": "stream",
          "name": "stderr",
          "text": [
            "/usr/local/lib/python3.7/dist-packages/sklearn/utils/validation.py:993: DataConversionWarning: A column-vector y was passed when a 1d array was expected. Please change the shape of y to (n_samples, ), for example using ravel().\n",
            "  y = column_or_1d(y, warn=True)\n",
            "/usr/local/lib/python3.7/dist-packages/ipykernel_launcher.py:8: DataConversionWarning: A column-vector y was passed when a 1d array was expected. Please change the shape of y to (n_samples,), for example using ravel().\n",
            "  \n",
            "/usr/local/lib/python3.7/dist-packages/sklearn/utils/validation.py:993: DataConversionWarning: A column-vector y was passed when a 1d array was expected. Please change the shape of y to (n_samples, ), for example using ravel().\n",
            "  y = column_or_1d(y, warn=True)\n",
            "/usr/local/lib/python3.7/dist-packages/ipykernel_launcher.py:8: DataConversionWarning: A column-vector y was passed when a 1d array was expected. Please change the shape of y to (n_samples,), for example using ravel().\n",
            "  \n"
          ]
        },
        {
          "output_type": "stream",
          "name": "stdout",
          "text": [
            "R2_Train = 68.7663%\tR2_Test = 52.381%\tECM = 0.1\n",
            "\n",
            "Modelo 3\n",
            "R2_Train = 3.45937%\tR2_Test = 14.2857%\tECM = 0.18\n",
            "\n",
            "R2_Train = 10.5579%\tR2_Test = 9.52381%\tECM = 0.19\n",
            "\n",
            "Modelo 4\n",
            "R2_Train = 3.45937%\tR2_Test = 14.2857%\tECM = 0.18\n",
            "\n"
          ]
        },
        {
          "output_type": "stream",
          "name": "stderr",
          "text": [
            "/usr/local/lib/python3.7/dist-packages/sklearn/utils/validation.py:993: DataConversionWarning: A column-vector y was passed when a 1d array was expected. Please change the shape of y to (n_samples, ), for example using ravel().\n",
            "  y = column_or_1d(y, warn=True)\n",
            "/usr/local/lib/python3.7/dist-packages/ipykernel_launcher.py:8: DataConversionWarning: A column-vector y was passed when a 1d array was expected. Please change the shape of y to (n_samples,), for example using ravel().\n",
            "  \n",
            "/usr/local/lib/python3.7/dist-packages/sklearn/utils/validation.py:993: DataConversionWarning: A column-vector y was passed when a 1d array was expected. Please change the shape of y to (n_samples, ), for example using ravel().\n",
            "  y = column_or_1d(y, warn=True)\n",
            "/usr/local/lib/python3.7/dist-packages/ipykernel_launcher.py:8: DataConversionWarning: A column-vector y was passed when a 1d array was expected. Please change the shape of y to (n_samples,), for example using ravel().\n",
            "  \n"
          ]
        },
        {
          "output_type": "stream",
          "name": "stdout",
          "text": [
            "R2_Train = 73.0254%\tR2_Test = 52.381%\tECM = 0.1\n",
            "\n",
            "Modelo 5\n",
            "R2_Train = 29.0142%\tR2_Test = 33.3333%\tECM = 0.14\n",
            "\n",
            "R2_Train = 29.0142%\tR2_Test = 33.3333%\tECM = 0.14\n",
            "\n",
            "Modelo 6\n",
            "R2_Train = -60.4278%\tR2_Test = -42.8571%\tECM = 0.3\n",
            "\n"
          ]
        },
        {
          "output_type": "stream",
          "name": "stderr",
          "text": [
            "/usr/local/lib/python3.7/dist-packages/sklearn/utils/validation.py:993: DataConversionWarning: A column-vector y was passed when a 1d array was expected. Please change the shape of y to (n_samples, ), for example using ravel().\n",
            "  y = column_or_1d(y, warn=True)\n",
            "/usr/local/lib/python3.7/dist-packages/ipykernel_launcher.py:8: DataConversionWarning: A column-vector y was passed when a 1d array was expected. Please change the shape of y to (n_samples,), for example using ravel().\n",
            "  \n",
            "/usr/local/lib/python3.7/dist-packages/sklearn/utils/validation.py:993: DataConversionWarning: A column-vector y was passed when a 1d array was expected. Please change the shape of y to (n_samples, ), for example using ravel().\n",
            "  y = column_or_1d(y, warn=True)\n",
            "/usr/local/lib/python3.7/dist-packages/ipykernel_launcher.py:8: DataConversionWarning: A column-vector y was passed when a 1d array was expected. Please change the shape of y to (n_samples,), for example using ravel().\n",
            "  \n"
          ]
        },
        {
          "output_type": "stream",
          "name": "stdout",
          "text": [
            "R2_Train = 9.13823%\tR2_Test = 14.2857%\tECM = 0.18\n",
            "\n",
            "\t\t\tMUESTRA 3\n",
            "Modelo 1\n",
            "R2_Train = 3.82775%\tR2_Test = -4.02533%\tECM = 0.23\n",
            "\n",
            "R2_Train = 62.6794%\tR2_Test = 59.2944%\tECM = 0.09\n",
            "\n",
            "Modelo 2\n",
            "R2_Train = -57.8947%\tR2_Test = -49.2537%\tECM = 0.33\n",
            "\n"
          ]
        },
        {
          "output_type": "stream",
          "name": "stderr",
          "text": [
            "/usr/local/lib/python3.7/dist-packages/sklearn/utils/validation.py:993: DataConversionWarning: A column-vector y was passed when a 1d array was expected. Please change the shape of y to (n_samples, ), for example using ravel().\n",
            "  y = column_or_1d(y, warn=True)\n",
            "/usr/local/lib/python3.7/dist-packages/ipykernel_launcher.py:8: DataConversionWarning: A column-vector y was passed when a 1d array was expected. Please change the shape of y to (n_samples,), for example using ravel().\n",
            "  \n",
            "/usr/local/lib/python3.7/dist-packages/sklearn/utils/validation.py:993: DataConversionWarning: A column-vector y was passed when a 1d array was expected. Please change the shape of y to (n_samples, ), for example using ravel().\n",
            "  y = column_or_1d(y, warn=True)\n",
            "/usr/local/lib/python3.7/dist-packages/ipykernel_launcher.py:8: DataConversionWarning: A column-vector y was passed when a 1d array was expected. Please change the shape of y to (n_samples,), for example using ravel().\n",
            "  \n"
          ]
        },
        {
          "output_type": "stream",
          "name": "stdout",
          "text": [
            "R2_Train = 62.6794%\tR2_Test = 63.8173%\tECM = 0.08\n",
            "\n",
            "Modelo 3\n",
            "R2_Train = 3.82775%\tR2_Test = -4.02533%\tECM = 0.23\n",
            "\n",
            "R2_Train = 8.13397%\tR2_Test = 9.54319%\tECM = 0.2\n",
            "\n",
            "Modelo 4\n",
            "R2_Train = 3.82775%\tR2_Test = -4.02533%\tECM = 0.23\n",
            "\n"
          ]
        },
        {
          "output_type": "stream",
          "name": "stderr",
          "text": [
            "/usr/local/lib/python3.7/dist-packages/sklearn/utils/validation.py:993: DataConversionWarning: A column-vector y was passed when a 1d array was expected. Please change the shape of y to (n_samples, ), for example using ravel().\n",
            "  y = column_or_1d(y, warn=True)\n",
            "/usr/local/lib/python3.7/dist-packages/ipykernel_launcher.py:8: DataConversionWarning: A column-vector y was passed when a 1d array was expected. Please change the shape of y to (n_samples,), for example using ravel().\n",
            "  \n",
            "/usr/local/lib/python3.7/dist-packages/sklearn/utils/validation.py:993: DataConversionWarning: A column-vector y was passed when a 1d array was expected. Please change the shape of y to (n_samples, ), for example using ravel().\n",
            "  y = column_or_1d(y, warn=True)\n",
            "/usr/local/lib/python3.7/dist-packages/ipykernel_launcher.py:8: DataConversionWarning: A column-vector y was passed when a 1d array was expected. Please change the shape of y to (n_samples,), for example using ravel().\n",
            "  \n"
          ]
        },
        {
          "output_type": "stream",
          "name": "stdout",
          "text": [
            "R2_Train = 64.1148%\tR2_Test = 59.2944%\tECM = 0.09\n",
            "\n",
            "Modelo 5\n",
            "R2_Train = 25.3589%\tR2_Test = 45.7259%\tECM = 0.12\n",
            "\n",
            "R2_Train = 25.3589%\tR2_Test = 41.2031%\tECM = 0.13\n",
            "\n",
            "Modelo 6\n",
            "R2_Train = -57.8947%\tR2_Test = -49.2537%\tECM = 0.33\n",
            "\n"
          ]
        },
        {
          "output_type": "stream",
          "name": "stderr",
          "text": [
            "/usr/local/lib/python3.7/dist-packages/sklearn/utils/validation.py:993: DataConversionWarning: A column-vector y was passed when a 1d array was expected. Please change the shape of y to (n_samples, ), for example using ravel().\n",
            "  y = column_or_1d(y, warn=True)\n",
            "/usr/local/lib/python3.7/dist-packages/ipykernel_launcher.py:8: DataConversionWarning: A column-vector y was passed when a 1d array was expected. Please change the shape of y to (n_samples,), for example using ravel().\n",
            "  \n",
            "/usr/local/lib/python3.7/dist-packages/sklearn/utils/validation.py:993: DataConversionWarning: A column-vector y was passed when a 1d array was expected. Please change the shape of y to (n_samples, ), for example using ravel().\n",
            "  y = column_or_1d(y, warn=True)\n",
            "/usr/local/lib/python3.7/dist-packages/ipykernel_launcher.py:8: DataConversionWarning: A column-vector y was passed when a 1d array was expected. Please change the shape of y to (n_samples,), for example using ravel().\n",
            "  \n"
          ]
        },
        {
          "output_type": "stream",
          "name": "stdout",
          "text": [
            "R2_Train = 8.13397%\tR2_Test = -31.1624%\tECM = 0.29\n",
            "\n",
            "\t\t\tMUESTRA 4\n",
            "Modelo 1\n",
            "R2_Train = -1.0101%\tR2_Test = -3.34849%\tECM = 0.25\n",
            "\n",
            "R2_Train = 65.8348%\tR2_Test = 58.6606%\tECM = 0.1\n",
            "\n",
            "Modelo 2\n",
            "R2_Train = -51.5152%\tR2_Test = -69.4915%\tECM = 0.41\n",
            "\n"
          ]
        },
        {
          "output_type": "stream",
          "name": "stderr",
          "text": [
            "/usr/local/lib/python3.7/dist-packages/sklearn/utils/validation.py:993: DataConversionWarning: A column-vector y was passed when a 1d array was expected. Please change the shape of y to (n_samples, ), for example using ravel().\n",
            "  y = column_or_1d(y, warn=True)\n",
            "/usr/local/lib/python3.7/dist-packages/ipykernel_launcher.py:8: DataConversionWarning: A column-vector y was passed when a 1d array was expected. Please change the shape of y to (n_samples,), for example using ravel().\n",
            "  \n",
            "/usr/local/lib/python3.7/dist-packages/sklearn/utils/validation.py:993: DataConversionWarning: A column-vector y was passed when a 1d array was expected. Please change the shape of y to (n_samples, ), for example using ravel().\n",
            "  y = column_or_1d(y, warn=True)\n",
            "/usr/local/lib/python3.7/dist-packages/ipykernel_launcher.py:8: DataConversionWarning: A column-vector y was passed when a 1d array was expected. Please change the shape of y to (n_samples,), for example using ravel().\n",
            "  \n"
          ]
        },
        {
          "output_type": "stream",
          "name": "stdout",
          "text": [
            "R2_Train = 64.3494%\tR2_Test = 58.6606%\tECM = 0.1\n",
            "\n",
            "Modelo 3\n",
            "R2_Train = -1.0101%\tR2_Test = -3.34849%\tECM = 0.25\n",
            "\n",
            "R2_Train = 7.90255%\tR2_Test = 9.05333%\tECM = 0.22\n",
            "\n",
            "Modelo 4\n",
            "R2_Train = -1.0101%\tR2_Test = -3.34849%\tECM = 0.25\n",
            "\n"
          ]
        },
        {
          "output_type": "stream",
          "name": "stderr",
          "text": [
            "/usr/local/lib/python3.7/dist-packages/sklearn/utils/validation.py:993: DataConversionWarning: A column-vector y was passed when a 1d array was expected. Please change the shape of y to (n_samples, ), for example using ravel().\n",
            "  y = column_or_1d(y, warn=True)\n",
            "/usr/local/lib/python3.7/dist-packages/ipykernel_launcher.py:8: DataConversionWarning: A column-vector y was passed when a 1d array was expected. Please change the shape of y to (n_samples,), for example using ravel().\n",
            "  \n",
            "/usr/local/lib/python3.7/dist-packages/sklearn/utils/validation.py:993: DataConversionWarning: A column-vector y was passed when a 1d array was expected. Please change the shape of y to (n_samples, ), for example using ravel().\n",
            "  y = column_or_1d(y, warn=True)\n",
            "/usr/local/lib/python3.7/dist-packages/ipykernel_launcher.py:8: DataConversionWarning: A column-vector y was passed when a 1d array was expected. Please change the shape of y to (n_samples,), for example using ravel().\n",
            "  \n"
          ]
        },
        {
          "output_type": "stream",
          "name": "stdout",
          "text": [
            "R2_Train = 70.2911%\tR2_Test = 58.6606%\tECM = 0.1\n",
            "\n",
            "Modelo 5\n",
            "R2_Train = 30.1842%\tR2_Test = 29.723%\tECM = 0.17\n",
            "\n",
            "R2_Train = 30.1842%\tR2_Test = 29.723%\tECM = 0.17\n",
            "\n",
            "Modelo 6\n",
            "R2_Train = -51.5152%\tR2_Test = -69.4915%\tECM = 0.41\n",
            "\n"
          ]
        },
        {
          "output_type": "stream",
          "name": "stderr",
          "text": [
            "/usr/local/lib/python3.7/dist-packages/sklearn/utils/validation.py:993: DataConversionWarning: A column-vector y was passed when a 1d array was expected. Please change the shape of y to (n_samples, ), for example using ravel().\n",
            "  y = column_or_1d(y, warn=True)\n",
            "/usr/local/lib/python3.7/dist-packages/ipykernel_launcher.py:8: DataConversionWarning: A column-vector y was passed when a 1d array was expected. Please change the shape of y to (n_samples,), for example using ravel().\n",
            "  \n",
            "/usr/local/lib/python3.7/dist-packages/sklearn/utils/validation.py:993: DataConversionWarning: A column-vector y was passed when a 1d array was expected. Please change the shape of y to (n_samples, ), for example using ravel().\n",
            "  y = column_or_1d(y, warn=True)\n",
            "/usr/local/lib/python3.7/dist-packages/ipykernel_launcher.py:8: DataConversionWarning: A column-vector y was passed when a 1d array was expected. Please change the shape of y to (n_samples,), for example using ravel().\n",
            "  \n"
          ]
        },
        {
          "output_type": "stream",
          "name": "stdout",
          "text": [
            "R2_Train = 6.41711%\tR2_Test = 9.05333%\tECM = 0.22\n",
            "\n",
            "\t\t\tMUESTRA 5\n",
            "Modelo 1\n",
            "R2_Train = -11.4082%\tR2_Test = 0.785449%\tECM = 0.24\n",
            "\n",
            "R2_Train = 67.3203%\tR2_Test = 66.9285%\tECM = 0.08\n",
            "\n",
            "Modelo 2\n",
            "R2_Train = 24.2424%\tR2_Test = 46.2588%\tECM = 0.13\n",
            "\n"
          ]
        },
        {
          "output_type": "stream",
          "name": "stderr",
          "text": [
            "/usr/local/lib/python3.7/dist-packages/sklearn/utils/validation.py:993: DataConversionWarning: A column-vector y was passed when a 1d array was expected. Please change the shape of y to (n_samples, ), for example using ravel().\n",
            "  y = column_or_1d(y, warn=True)\n",
            "/usr/local/lib/python3.7/dist-packages/ipykernel_launcher.py:8: DataConversionWarning: A column-vector y was passed when a 1d array was expected. Please change the shape of y to (n_samples,), for example using ravel().\n",
            "  \n",
            "/usr/local/lib/python3.7/dist-packages/sklearn/utils/validation.py:993: DataConversionWarning: A column-vector y was passed when a 1d array was expected. Please change the shape of y to (n_samples, ), for example using ravel().\n",
            "  y = column_or_1d(y, warn=True)\n",
            "/usr/local/lib/python3.7/dist-packages/ipykernel_launcher.py:8: DataConversionWarning: A column-vector y was passed when a 1d array was expected. Please change the shape of y to (n_samples,), for example using ravel().\n",
            "  \n"
          ]
        },
        {
          "output_type": "stream",
          "name": "stdout",
          "text": [
            "R2_Train = 64.3494%\tR2_Test = 71.0624%\tECM = 0.07\n",
            "\n",
            "Modelo 3\n",
            "R2_Train = -11.4082%\tR2_Test = 0.785449%\tECM = 0.24\n",
            "\n",
            "R2_Train = 4.93167%\tR2_Test = 17.3212%\tECM = 0.2\n",
            "\n",
            "Modelo 4\n",
            "R2_Train = -11.4082%\tR2_Test = 0.785449%\tECM = 0.24\n",
            "\n"
          ]
        },
        {
          "output_type": "stream",
          "name": "stderr",
          "text": [
            "/usr/local/lib/python3.7/dist-packages/sklearn/utils/validation.py:993: DataConversionWarning: A column-vector y was passed when a 1d array was expected. Please change the shape of y to (n_samples, ), for example using ravel().\n",
            "  y = column_or_1d(y, warn=True)\n",
            "/usr/local/lib/python3.7/dist-packages/ipykernel_launcher.py:8: DataConversionWarning: A column-vector y was passed when a 1d array was expected. Please change the shape of y to (n_samples,), for example using ravel().\n",
            "  \n",
            "/usr/local/lib/python3.7/dist-packages/sklearn/utils/validation.py:993: DataConversionWarning: A column-vector y was passed when a 1d array was expected. Please change the shape of y to (n_samples, ), for example using ravel().\n",
            "  y = column_or_1d(y, warn=True)\n",
            "/usr/local/lib/python3.7/dist-packages/ipykernel_launcher.py:8: DataConversionWarning: A column-vector y was passed when a 1d array was expected. Please change the shape of y to (n_samples,), for example using ravel().\n",
            "  \n"
          ]
        },
        {
          "output_type": "stream",
          "name": "stdout",
          "text": [
            "R2_Train = 68.8057%\tR2_Test = 66.9285%\tECM = 0.08\n",
            "\n",
            "Modelo 5\n",
            "R2_Train = 30.1842%\tR2_Test = 29.723%\tECM = 0.17\n",
            "\n",
            "R2_Train = 30.1842%\tR2_Test = 29.723%\tECM = 0.17\n",
            "\n",
            "Modelo 6\n",
            "R2_Train = -51.5152%\tR2_Test = -69.4915%\tECM = 0.41\n",
            "\n"
          ]
        },
        {
          "output_type": "stream",
          "name": "stderr",
          "text": [
            "/usr/local/lib/python3.7/dist-packages/sklearn/utils/validation.py:993: DataConversionWarning: A column-vector y was passed when a 1d array was expected. Please change the shape of y to (n_samples, ), for example using ravel().\n",
            "  y = column_or_1d(y, warn=True)\n",
            "/usr/local/lib/python3.7/dist-packages/ipykernel_launcher.py:8: DataConversionWarning: A column-vector y was passed when a 1d array was expected. Please change the shape of y to (n_samples,), for example using ravel().\n",
            "  \n",
            "/usr/local/lib/python3.7/dist-packages/sklearn/utils/validation.py:993: DataConversionWarning: A column-vector y was passed when a 1d array was expected. Please change the shape of y to (n_samples, ), for example using ravel().\n",
            "  y = column_or_1d(y, warn=True)\n",
            "/usr/local/lib/python3.7/dist-packages/ipykernel_launcher.py:8: DataConversionWarning: A column-vector y was passed when a 1d array was expected. Please change the shape of y to (n_samples,), for example using ravel().\n",
            "  \n"
          ]
        },
        {
          "output_type": "stream",
          "name": "stdout",
          "text": [
            "R2_Train = 9.388%\tR2_Test = 13.1873%\tECM = 0.21\n",
            "\n"
          ]
        }
      ]
    }
  ]
}